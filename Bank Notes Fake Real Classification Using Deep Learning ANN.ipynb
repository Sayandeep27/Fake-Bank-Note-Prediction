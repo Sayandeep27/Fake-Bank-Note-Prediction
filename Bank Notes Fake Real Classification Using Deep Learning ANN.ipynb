{
 "cells": [
  {
   "cell_type": "code",
   "execution_count": 1,
   "id": "f37dc40f",
   "metadata": {},
   "outputs": [
    {
     "name": "stdout",
     "output_type": "stream",
     "text": [
      "WARNING:tensorflow:From C:\\Users\\USER\\anaconda3\\Lib\\site-packages\\keras\\src\\losses.py:2976: The name tf.losses.sparse_softmax_cross_entropy is deprecated. Please use tf.compat.v1.losses.sparse_softmax_cross_entropy instead.\n",
      "\n"
     ]
    }
   ],
   "source": [
    "import numpy as np\n",
    "import pandas as pd\n",
    "import matplotlib.pyplot as plt\n",
    "\n",
    "# sklearn imports\n",
    "from sklearn.model_selection import train_test_split\n",
    "from sklearn.preprocessing import StandardScaler\n",
    "from sklearn.metrics import classification_report, confusion_matrix, roc_curve, auc\n",
    "\n",
    "# keras imports\n",
    "from tensorflow.keras.models import Sequential\n",
    "from tensorflow.keras.layers import Dense, Dropout\n",
    "from tensorflow.keras.callbacks import EarlyStopping\n",
    "from tensorflow.keras.utils import to_categorical"
   ]
  },
  {
   "cell_type": "code",
   "execution_count": 2,
   "id": "47e1b7f0",
   "metadata": {},
   "outputs": [
    {
     "data": {
      "text/html": [
       "<div>\n",
       "<style scoped>\n",
       "    .dataframe tbody tr th:only-of-type {\n",
       "        vertical-align: middle;\n",
       "    }\n",
       "\n",
       "    .dataframe tbody tr th {\n",
       "        vertical-align: top;\n",
       "    }\n",
       "\n",
       "    .dataframe thead th {\n",
       "        text-align: right;\n",
       "    }\n",
       "</style>\n",
       "<table border=\"1\" class=\"dataframe\">\n",
       "  <thead>\n",
       "    <tr style=\"text-align: right;\">\n",
       "      <th></th>\n",
       "      <th>VWTI</th>\n",
       "      <th>SWTI</th>\n",
       "      <th>CWTI</th>\n",
       "      <th>EI</th>\n",
       "      <th>Class</th>\n",
       "    </tr>\n",
       "  </thead>\n",
       "  <tbody>\n",
       "    <tr>\n",
       "      <th>0</th>\n",
       "      <td>2.263400</td>\n",
       "      <td>-4.4862</td>\n",
       "      <td>3.65580</td>\n",
       "      <td>-0.612510</td>\n",
       "      <td>0</td>\n",
       "    </tr>\n",
       "    <tr>\n",
       "      <th>1</th>\n",
       "      <td>3.271800</td>\n",
       "      <td>1.7837</td>\n",
       "      <td>2.11610</td>\n",
       "      <td>0.613340</td>\n",
       "      <td>0</td>\n",
       "    </tr>\n",
       "    <tr>\n",
       "      <th>2</th>\n",
       "      <td>-3.941100</td>\n",
       "      <td>-12.8792</td>\n",
       "      <td>13.05970</td>\n",
       "      <td>-3.312500</td>\n",
       "      <td>1</td>\n",
       "    </tr>\n",
       "    <tr>\n",
       "      <th>3</th>\n",
       "      <td>0.519500</td>\n",
       "      <td>-3.2633</td>\n",
       "      <td>3.08950</td>\n",
       "      <td>-0.984900</td>\n",
       "      <td>0</td>\n",
       "    </tr>\n",
       "    <tr>\n",
       "      <th>4</th>\n",
       "      <td>2.569800</td>\n",
       "      <td>-4.4076</td>\n",
       "      <td>5.98560</td>\n",
       "      <td>0.078002</td>\n",
       "      <td>0</td>\n",
       "    </tr>\n",
       "    <tr>\n",
       "      <th>...</th>\n",
       "      <td>...</td>\n",
       "      <td>...</td>\n",
       "      <td>...</td>\n",
       "      <td>...</td>\n",
       "      <td>...</td>\n",
       "    </tr>\n",
       "    <tr>\n",
       "      <th>1091</th>\n",
       "      <td>1.640600</td>\n",
       "      <td>3.5488</td>\n",
       "      <td>1.39640</td>\n",
       "      <td>-0.364240</td>\n",
       "      <td>0</td>\n",
       "    </tr>\n",
       "    <tr>\n",
       "      <th>1092</th>\n",
       "      <td>-0.048008</td>\n",
       "      <td>-1.6037</td>\n",
       "      <td>8.47560</td>\n",
       "      <td>0.755580</td>\n",
       "      <td>0</td>\n",
       "    </tr>\n",
       "    <tr>\n",
       "      <th>1093</th>\n",
       "      <td>2.942100</td>\n",
       "      <td>7.4101</td>\n",
       "      <td>-0.97709</td>\n",
       "      <td>-0.884060</td>\n",
       "      <td>0</td>\n",
       "    </tr>\n",
       "    <tr>\n",
       "      <th>1094</th>\n",
       "      <td>1.964700</td>\n",
       "      <td>6.9383</td>\n",
       "      <td>0.57722</td>\n",
       "      <td>0.663770</td>\n",
       "      <td>0</td>\n",
       "    </tr>\n",
       "    <tr>\n",
       "      <th>1095</th>\n",
       "      <td>-0.126240</td>\n",
       "      <td>10.3216</td>\n",
       "      <td>-3.71210</td>\n",
       "      <td>-6.118500</td>\n",
       "      <td>0</td>\n",
       "    </tr>\n",
       "  </tbody>\n",
       "</table>\n",
       "<p>1096 rows × 5 columns</p>\n",
       "</div>"
      ],
      "text/plain": [
       "          VWTI     SWTI      CWTI        EI  Class\n",
       "0     2.263400  -4.4862   3.65580 -0.612510      0\n",
       "1     3.271800   1.7837   2.11610  0.613340      0\n",
       "2    -3.941100 -12.8792  13.05970 -3.312500      1\n",
       "3     0.519500  -3.2633   3.08950 -0.984900      0\n",
       "4     2.569800  -4.4076   5.98560  0.078002      0\n",
       "...        ...      ...       ...       ...    ...\n",
       "1091  1.640600   3.5488   1.39640 -0.364240      0\n",
       "1092 -0.048008  -1.6037   8.47560  0.755580      0\n",
       "1093  2.942100   7.4101  -0.97709 -0.884060      0\n",
       "1094  1.964700   6.9383   0.57722  0.663770      0\n",
       "1095 -0.126240  10.3216  -3.71210 -6.118500      0\n",
       "\n",
       "[1096 rows x 5 columns]"
      ]
     },
     "execution_count": 2,
     "metadata": {},
     "output_type": "execute_result"
    }
   ],
   "source": [
    "# Load the dataset\n",
    "data = pd.read_csv('train.csv')\n",
    "data"
   ]
  },
  {
   "cell_type": "code",
   "execution_count": 3,
   "id": "044bec0d",
   "metadata": {},
   "outputs": [
    {
     "name": "stdout",
     "output_type": "stream",
     "text": [
      "X_train shape: (700, 4), y_train shape: (700,)\n",
      "X_val shape: (176, 4), y_val shape: (176,)\n",
      "X_test shape: (220, 4), y_test shape: (220,)\n"
     ]
    }
   ],
   "source": [
    "# Separate features and target\n",
    "X = data[['VWTI', 'SWTI', 'CWTI', 'EI']]  # Adjust these columns to your dataset\n",
    "y = data['Class']\n",
    "\n",
    "# Train-test split\n",
    "X_train, X_test, y_train, y_test = train_test_split(X, y, test_size=0.2, random_state=42)\n",
    "\n",
    "# Further split training data into train and validation sets\n",
    "X_train, X_val, y_train, y_val = train_test_split(X_train, y_train, test_size=0.2, random_state=42)\n",
    "\n",
    "# Feature scaling\n",
    "scaler = StandardScaler()\n",
    "X_train = scaler.fit_transform(X_train)\n",
    "X_val = scaler.transform(X_val)\n",
    "X_test = scaler.transform(X_test)\n",
    "\n",
    "# Ensure target is in binary format (0 or 1 for binary classification)\n",
    "# No need for one-hot encoding in binary classification\n",
    "y_train = y_train.values\n",
    "y_val = y_val.values\n",
    "y_test = y_test.values\n",
    "\n",
    "# Check shapes\n",
    "print(f\"X_train shape: {X_train.shape}, y_train shape: {y_train.shape}\")\n",
    "print(f\"X_val shape: {X_val.shape}, y_val shape: {y_val.shape}\")\n",
    "print(f\"X_test shape: {X_test.shape}, y_test shape: {y_test.shape}\")"
   ]
  },
  {
   "cell_type": "code",
   "execution_count": 4,
   "id": "08706cfa",
   "metadata": {},
   "outputs": [
    {
     "name": "stdout",
     "output_type": "stream",
     "text": [
      "WARNING:tensorflow:From C:\\Users\\USER\\anaconda3\\Lib\\site-packages\\keras\\src\\backend.py:873: The name tf.get_default_graph is deprecated. Please use tf.compat.v1.get_default_graph instead.\n",
      "\n",
      "WARNING:tensorflow:From C:\\Users\\USER\\anaconda3\\Lib\\site-packages\\keras\\src\\optimizers\\__init__.py:309: The name tf.train.Optimizer is deprecated. Please use tf.compat.v1.train.Optimizer instead.\n",
      "\n",
      "Model: \"sequential\"\n",
      "_________________________________________________________________\n",
      " Layer (type)                Output Shape              Param #   \n",
      "=================================================================\n",
      " dense (Dense)               (None, 64)                320       \n",
      "                                                                 \n",
      " dropout (Dropout)           (None, 64)                0         \n",
      "                                                                 \n",
      " dense_1 (Dense)             (None, 32)                2080      \n",
      "                                                                 \n",
      " dropout_1 (Dropout)         (None, 32)                0         \n",
      "                                                                 \n",
      " dense_2 (Dense)             (None, 16)                528       \n",
      "                                                                 \n",
      " dense_3 (Dense)             (None, 1)                 17        \n",
      "                                                                 \n",
      "=================================================================\n",
      "Total params: 2945 (11.50 KB)\n",
      "Trainable params: 2945 (11.50 KB)\n",
      "Non-trainable params: 0 (0.00 Byte)\n",
      "_________________________________________________________________\n"
     ]
    }
   ],
   "source": [
    "# Define the model\n",
    "model = Sequential([\n",
    "    Dense(64, activation='relu', input_shape=(X_train.shape[1],)),  # Input layer\n",
    "    Dropout(0.3),  # Dropout to reduce overfitting\n",
    "    Dense(32, activation='relu'),\n",
    "    Dropout(0.3),  # Another Dropout layer\n",
    "    Dense(16, activation='relu'),\n",
    "    Dense(1, activation='sigmoid')  # Output layer for binary classification\n",
    "])\n",
    "\n",
    "# Compile the model\n",
    "model.compile(optimizer='adam', loss='binary_crossentropy', metrics=['accuracy'])\n",
    "\n",
    "# Add early stopping to prevent overfitting\n",
    "early_stopping = EarlyStopping(\n",
    "    monitor='val_loss',  # Monitors validation loss\n",
    "    patience=5,          # Stops training after 5 epochs with no improvement\n",
    "    restore_best_weights=True  # Restores the best model weights\n",
    ")\n",
    "\n",
    "# Check model summary\n",
    "model.summary()"
   ]
  },
  {
   "cell_type": "code",
   "execution_count": 5,
   "id": "3d1c204b",
   "metadata": {},
   "outputs": [
    {
     "name": "stdout",
     "output_type": "stream",
     "text": [
      "Epoch 1/15\n",
      "WARNING:tensorflow:From C:\\Users\\USER\\anaconda3\\Lib\\site-packages\\keras\\src\\utils\\tf_utils.py:492: The name tf.ragged.RaggedTensorValue is deprecated. Please use tf.compat.v1.ragged.RaggedTensorValue instead.\n",
      "\n",
      "WARNING:tensorflow:From C:\\Users\\USER\\anaconda3\\Lib\\site-packages\\keras\\src\\engine\\base_layer_utils.py:384: The name tf.executing_eagerly_outside_functions is deprecated. Please use tf.compat.v1.executing_eagerly_outside_functions instead.\n",
      "\n",
      "22/22 [==============================] - 3s 22ms/step - loss: 0.6437 - accuracy: 0.7086 - val_loss: 0.5373 - val_accuracy: 0.8750\n",
      "Epoch 2/15\n",
      "22/22 [==============================] - 0s 8ms/step - loss: 0.4860 - accuracy: 0.8771 - val_loss: 0.3832 - val_accuracy: 0.8977\n",
      "Epoch 3/15\n",
      "22/22 [==============================] - 0s 8ms/step - loss: 0.3443 - accuracy: 0.9143 - val_loss: 0.2526 - val_accuracy: 0.9205\n",
      "Epoch 4/15\n",
      "22/22 [==============================] - 0s 9ms/step - loss: 0.2194 - accuracy: 0.9357 - val_loss: 0.1633 - val_accuracy: 0.9375\n",
      "Epoch 5/15\n",
      "22/22 [==============================] - 0s 10ms/step - loss: 0.1493 - accuracy: 0.9543 - val_loss: 0.1094 - val_accuracy: 0.9602\n",
      "Epoch 6/15\n",
      "22/22 [==============================] - 0s 10ms/step - loss: 0.1233 - accuracy: 0.9671 - val_loss: 0.0803 - val_accuracy: 0.9659\n",
      "Epoch 7/15\n",
      "22/22 [==============================] - 0s 10ms/step - loss: 0.0787 - accuracy: 0.9786 - val_loss: 0.0642 - val_accuracy: 0.9659\n",
      "Epoch 8/15\n",
      "22/22 [==============================] - 0s 10ms/step - loss: 0.0692 - accuracy: 0.9800 - val_loss: 0.0553 - val_accuracy: 0.9659\n",
      "Epoch 9/15\n",
      "22/22 [==============================] - 0s 11ms/step - loss: 0.0640 - accuracy: 0.9771 - val_loss: 0.0410 - val_accuracy: 0.9773\n",
      "Epoch 10/15\n",
      "22/22 [==============================] - 0s 10ms/step - loss: 0.0511 - accuracy: 0.9800 - val_loss: 0.0328 - val_accuracy: 0.9943\n",
      "Epoch 11/15\n",
      "22/22 [==============================] - 0s 10ms/step - loss: 0.0477 - accuracy: 0.9829 - val_loss: 0.0339 - val_accuracy: 0.9886\n",
      "Epoch 12/15\n",
      "22/22 [==============================] - 0s 11ms/step - loss: 0.0384 - accuracy: 0.9900 - val_loss: 0.0180 - val_accuracy: 0.9943\n",
      "Epoch 13/15\n",
      "22/22 [==============================] - 0s 8ms/step - loss: 0.0315 - accuracy: 0.9900 - val_loss: 0.0176 - val_accuracy: 0.9943\n",
      "Epoch 14/15\n",
      "22/22 [==============================] - 0s 8ms/step - loss: 0.0357 - accuracy: 0.9886 - val_loss: 0.0137 - val_accuracy: 0.9943\n",
      "Epoch 15/15\n",
      "22/22 [==============================] - 0s 9ms/step - loss: 0.0208 - accuracy: 0.9943 - val_loss: 0.0088 - val_accuracy: 1.0000\n"
     ]
    }
   ],
   "source": [
    "# Train the model\n",
    "history = model.fit(\n",
    "    X_train, y_train,\n",
    "    validation_data=(X_val, y_val),\n",
    "    epochs=15,\n",
    "    batch_size=32,\n",
    "    callbacks=[early_stopping]  # Use early stopping callback\n",
    ")"
   ]
  },
  {
   "cell_type": "code",
   "execution_count": 6,
   "id": "b38795a2",
   "metadata": {},
   "outputs": [
    {
     "name": "stdout",
     "output_type": "stream",
     "text": [
      "7/7 [==============================] - 0s 5ms/step - loss: 0.0090 - accuracy: 1.0000\n",
      "Test Loss: 0.0090, Test Accuracy: 1.0000\n"
     ]
    }
   ],
   "source": [
    "# Evaluate the model on the test set\n",
    "test_loss, test_acc = model.evaluate(X_test, y_test)\n",
    "print(f\"Test Loss: {test_loss:.4f}, Test Accuracy: {test_acc:.4f}\")"
   ]
  },
  {
   "cell_type": "code",
   "execution_count": 7,
   "id": "8b952b57",
   "metadata": {},
   "outputs": [
    {
     "name": "stdout",
     "output_type": "stream",
     "text": [
      "7/7 [==============================] - 0s 4ms/step\n",
      "Classification Report:\n",
      "              precision    recall  f1-score   support\n",
      "\n",
      "           0       1.00      1.00      1.00       135\n",
      "           1       1.00      1.00      1.00        85\n",
      "\n",
      "    accuracy                           1.00       220\n",
      "   macro avg       1.00      1.00      1.00       220\n",
      "weighted avg       1.00      1.00      1.00       220\n",
      "\n"
     ]
    }
   ],
   "source": [
    "# You can also generate predictions\n",
    "y_pred = (model.predict(X_test) > 0.5).astype(int)\n",
    "\n",
    "\n",
    "print(\"Classification Report:\")\n",
    "print(classification_report(y_test, y_pred))"
   ]
  },
  {
   "cell_type": "code",
   "execution_count": 8,
   "id": "0205223e",
   "metadata": {},
   "outputs": [
    {
     "data": {
      "image/png": "[encoded data removed]",
      "text/plain": [
       "<Figure size 600x500 with 2 Axes>"
      ]
     },
     "metadata": {},
     "output_type": "display_data"
    }
   ],
   "source": [
    "# Plot confusion matrix using seaborn heatmap\n",
    "import seaborn as sns\n",
    "# Confusion matrix\n",
    "cm = confusion_matrix(y_test, y_pred)\n",
    "plt.figure(figsize=(6, 5))\n",
    "sns.heatmap(cm, annot=True, fmt='d', cmap='Blues', xticklabels=['Class 0', 'Class 1'], yticklabels=['Class 0', 'Class 1'])\n",
    "plt.xlabel('Predicted')\n",
    "plt.ylabel('True')\n",
    "plt.title('Confusion Matrix')\n",
    "plt.show()"
   ]
  },
  {
   "cell_type": "code",
   "execution_count": 9,
   "id": "747c62ac",
   "metadata": {},
   "outputs": [],
   "source": [
    "import numpy as np\n",
    "\n",
    "\n",
    "# Define the make_prediction function\n",
    "def make_prediction(input_data):\n",
    "    # Preprocess input data (apply scaling)\n",
    "    # Use the pre-loaded scaler instead of creating a new one\n",
    "    input_data_scaled = scaler.transform(input_data)  # Use transform instead of fit_transform\n",
    "    \n",
    "    # Use the trained model to predict the class\n",
    "    predictions = model.predict(input_data_scaled)\n",
    "    \n",
    "    # Convert prediction to binary (0 or 1)\n",
    "    predicted_classes = (predictions > 0.5).astype(int)\n",
    "    \n",
    "    # Return the prediction as a string\n",
    "    if predicted_classes[0] == 1:\n",
    "        return \"Real\"\n",
    "    else:\n",
    "        return \"Fake\""
   ]
  },
  {
   "cell_type": "code",
   "execution_count": 10,
   "id": "d3415e7a",
   "metadata": {},
   "outputs": [
    {
     "name": "stdout",
     "output_type": "stream",
     "text": [
      "1/1 [==============================] - 0s 30ms/step\n",
      "Fake\n"
     ]
    },
    {
     "name": "stderr",
     "output_type": "stream",
     "text": [
      "C:\\Users\\USER\\anaconda3\\Lib\\site-packages\\sklearn\\base.py:464: UserWarning: X does not have valid feature names, but StandardScaler was fitted with feature names\n",
      "  warnings.warn(\n"
     ]
    }
   ],
   "source": [
    "# Example input data for prediction (replace with actual form data or array)\n",
    "input_data = np.array([[1.5, 2.3, 3.4, 0.7]])  # Example data\n",
    "\n",
    "# Get the prediction\n",
    "result = make_prediction(input_data)\n",
    "print(result)  # Will print \"Real\" or \"Fake\" based on the prediction"
   ]
  },
  {
   "cell_type": "code",
   "execution_count": 11,
   "id": "5731ffc3",
   "metadata": {},
   "outputs": [
    {
     "name": "stdout",
     "output_type": "stream",
     "text": [
      "1/1 [==============================] - 0s 33ms/step\n",
      "Real\n"
     ]
    },
    {
     "name": "stderr",
     "output_type": "stream",
     "text": [
      "C:\\Users\\USER\\anaconda3\\Lib\\site-packages\\sklearn\\base.py:464: UserWarning: X does not have valid feature names, but StandardScaler was fitted with feature names\n",
      "  warnings.warn(\n"
     ]
    }
   ],
   "source": [
    "# Example input data for prediction (replace with actual form data or array)\n",
    "input_data = np.array([[-3.9411, -12.8792,  13.0597,  -3.3125]])  # Example data\n",
    "\n",
    "# Get the prediction\n",
    "result = make_prediction(input_data)\n",
    "print(result)  # Will print \"Real\" or \"Fake\" based on the prediction"
   ]
  },
  {
   "cell_type": "code",
   "execution_count": 12,
   "id": "730aa5f6",
   "metadata": {},
   "outputs": [
    {
     "name": "stderr",
     "output_type": "stream",
     "text": [
      "C:\\Users\\USER\\anaconda3\\Lib\\site-packages\\keras\\src\\engine\\training.py:3103: UserWarning: You are saving your model as an HDF5 file via `model.save()`. This file format is considered legacy. We recommend using instead the native Keras format, e.g. `model.save('my_model.keras')`.\n",
      "  saving_api.save_model(\n"
     ]
    }
   ],
   "source": [
    "import pickle\n",
    "\n",
    "model.save('models/model.h5')\n",
    "# Save the scaler using pickle\n",
    "with open('models/scaler.pkl', 'wb') as scaler_file:\n",
    "    pickle.dump(scaler, scaler_file)"
   ]
  },
  {
   "cell_type": "code",
   "execution_count": null,
   "id": "226cebea",
   "metadata": {},
   "outputs": [],
   "source": []
  }
 ],
 "metadata": {
  "kernelspec": {
   "display_name": "Python 3 (ipykernel)",
   "language": "python",
   "name": "python3"
  },
  "language_info": {
   "codemirror_mode": {
    "name": "ipython",
    "version": 3
   },
   "file_extension": ".py",
   "mimetype": "text/x-python",
   "name": "python",
   "nbconvert_exporter": "python",
   "pygments_lexer": "ipython3",
   "version": "3.11.5"
  }
 },
 "nbformat": 4,
 "nbformat_minor": 5
}
